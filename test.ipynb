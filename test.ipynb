{
 "cells": [
  {
   "cell_type": "code",
   "execution_count": 2,
   "metadata": {},
   "outputs": [
    {
     "name": "stdout",
     "output_type": "stream",
     "text": [
      "{\"user\": [\"deft\"], \"deft\": [\"a\"]}\n",
      "{'user': ['bill', 'temp', 'alberta', 'gill'], 'bill': ['a'], 'alberta': ['cd', 'a'], 'book': ['c', 'd']}\n"
     ]
    }
   ],
   "source": [
    "import json\n",
    "import requests\n",
    "my = 'https://dsci551-2d784-default-rtdb.firebaseio.com/directory.json'\n",
    "\n",
    "name = \"/user/deft/b\"\n",
    "name2 = \"/user/deft/a\"\n",
    "n1 = name.split('/')\n",
    "n2 = name2.split('/')\n",
    "\n",
    "\n",
    "def toDict(x):\n",
    "    d = {}\n",
    "    for i in range(len(x)):\n",
    "        if i != 0 and i+1 < len(x):\n",
    "            d[x[i]] = [x[i+1]] \n",
    "    return d\n",
    "\n",
    "# print(toDict(n2))\n",
    "print(json.dumps(toDict(n2)))\n",
    "# requests.put(my, json.dumps(toDict(n2)))\n",
    "# r = requests.get(my).json()\n",
    "# print(r)\n",
    "data = '{\"test\": \"{\"user\": [\"deft\"], \"deft\": [\"a\"]}\"}'\n",
    "requests.put(my, data)\n",
    "\n",
    "def merge(x, y):\n",
    "    z = {}\n",
    "    for k, v in x.items():\n",
    "        if k in y.keys() and v not in y.values():\n",
    "            for i in y[k]:\n",
    "                v.append(i)\n",
    "            z[k] = v\n",
    "        else:\n",
    "            z[k] = v\n",
    "    for k, v in y.items():\n",
    "        if k not in z.keys():\n",
    "            z[k] = v\n",
    "    return z\n",
    "\n",
    "# requests.patch(my, json.dumps(merge(toDict(new), r)))\n",
    "# print(merge(toDict(n1), toDict(n2)))\n",
    "print(merge({'user': ['bill', 'temp'], 'bill': ['a'], 'alberta': ['cd'], 'book': ['c', 'd']}, {'user': ['alberta', 'gill'], 'bill': ['love'], 'alberta': ['a']}))"
   ]
  },
  {
   "cell_type": "code",
   "execution_count": 28,
   "metadata": {},
   "outputs": [
    {
     "name": "stdout",
     "output_type": "stream",
     "text": [
      "test.json\n",
      "/user/gill {'test_json': ''} test_json\n",
      "https://dsci551-2d784-default-rtdb.firebaseio.com/directory/user/gill.json {\"test_json\": \"\"}\n"
     ]
    }
   ],
   "source": [
    "import json\n",
    "import requests\n",
    "myfire = 'https://dsci551-2d784-default-rtdb.firebaseio.com/'\n",
    "root = 'https://dsci551-2d784-default-rtdb.firebaseio.com/directory'\n",
    "\n",
    "f = '/user/gill/test.json'\n",
    "# data = json.load(open(f))\n",
    "# d = json.dumps(data)\n",
    "# requests.patch(my + f, d)\n",
    "def make_url(x):\n",
    "    dirc = x.split('/')\n",
    "    url = \"\"\n",
    "    d = {}\n",
    "    for i in range(len(dirc)):\n",
    "        if i != 0 and i + 1 < len(dirc):\n",
    "            url += \"/\" + dirc[i]\n",
    "        if i + 1 == len(dirc):\n",
    "            d[dirc[i]] = \"\"\n",
    "\n",
    "    return url, d\n",
    "\n",
    "def make_file(x):\n",
    "    dirc = x.split('/')\n",
    "    url = \"\"\n",
    "    d = {}\n",
    "    for i in range(len(dirc)):\n",
    "        if i != 0 and i + 1 < len(dirc):\n",
    "            url += \"/\" + dirc[i]\n",
    "        if i + 1 == len(dirc):\n",
    "            key = dirc[i][:-5]+\"_json\"\n",
    "            d[key] = \"\"\n",
    "    return url, d, key\n",
    "\n",
    "file = f.split('/')[-1]\n",
    "print(file)\n",
    "url, d, key = make_file(f)\n",
    "print(url, d, key)\n",
    "# print(root + url + '/', d)\n",
    "print(root + url + '.json', json.dumps(d))\n",
    "# requests.patch(root + url + '.json', json.dumps(d))\n",
    "data = json.dumps(json.load(open(file)))\n",
    "# print(data)\n",
    "# requests.patch(root + url + '/' + key + '.json', data)"
   ]
  },
  {
   "cell_type": "code",
   "execution_count": 41,
   "metadata": {},
   "outputs": [
    {
     "name": "stdout",
     "output_type": "stream",
     "text": [
      "['put', 'test.json', '/user/john', 'k', '=', '#', 'partitions)']\n",
      "https://dsci551-2d784-default-rtdb.firebaseio.com//user/john/test_json {\"test_json\": \"\"}\n",
      "test.json\n"
     ]
    },
    {
     "data": {
      "text/plain": [
       "<Response [200]>"
      ]
     },
     "execution_count": 41,
     "metadata": {},
     "output_type": "execute_result"
    }
   ],
   "source": [
    "import re\n",
    "import json\n",
    "root = 'https://dsci551-2d784-default-rtdb.firebaseio.com/directory'\n",
    "myfire = 'https://dsci551-2d784-default-rtdb.firebaseio.com/'\n",
    "\n",
    "i = \"put(test.json, /user/john, k = # partitions)\"\n",
    "\n",
    "d = re.split(r'[, ;(]+', i)\n",
    "print(d)\n",
    "if 'json' in d[1]:\n",
    "    key = d[1][:-5] + \"_json\"\n",
    "elif 'csv' in d[1]:\n",
    "    key = d[1][:-4] + \"_csv\"\n",
    "data = json.dumps(json.load(open(d[1])))\n",
    "num = d[5]\n",
    "di = {}\n",
    "di[key] = \"\"\n",
    "print(myfire + d[2] + '/' + key , json.dumps(di))\n",
    "print(d[1])\n",
    "requests.patch(root + d[2] + '/' + key + '.json', json.dumps(json.load(open(d[1]))))\n",
    "# requests.patch(myfire + d[1], json.dumps(json.load(open(d[1]))))"
   ]
  },
  {
   "cell_type": "code",
   "execution_count": 31,
   "metadata": {},
   "outputs": [
    {
     "name": "stdout",
     "output_type": "stream",
     "text": [
      "/user/john/test.json\n",
      "https://dsci551-2d784-default-rtdb.firebaseio.com/test.json\n",
      "test_json\n",
      "https://dsci551-2d784-default-rtdb.firebaseio.com/directory/user/john/test_json.json\n"
     ]
    }
   ],
   "source": [
    "import requests\n",
    "i = \"cat /user/john/test.json\"\n",
    "target = i.split(' ')[1]\n",
    "tlist = target.split('/')\n",
    "print(target)\n",
    "my = 'https://dsci551-2d784-default-rtdb.firebaseio.com/directory'\n",
    "print(myfire + tlist[-1])\n",
    "\n",
    "if 'json' in tlist[-1]:\n",
    "    k = tlist[-1][:-5] + \"_json\"\n",
    "elif 'csv' in tlist[1]:\n",
    "    k = tlist[-1][:-4] + \"_csv\"\n",
    "print(k)\n",
    "u = \"\"\n",
    "for i in tlist[:-1]:\n",
    "    u += i +'/'\n",
    "print(my+u+k+'.json')\n"
   ]
  },
  {
   "cell_type": "code",
   "execution_count": 2,
   "metadata": {},
   "outputs": [
    {
     "name": "stdout",
     "output_type": "stream",
     "text": [
      "user\n"
     ]
    }
   ],
   "source": [
    "input = \"ls /user\"\n",
    "data = input.split(' ')[1].split('/')\n",
    "print(data[-1])"
   ]
  }
 ],
 "metadata": {
  "kernelspec": {
   "display_name": "Python 3.10.0 64-bit",
   "language": "python",
   "name": "python3"
  },
  "language_info": {
   "codemirror_mode": {
    "name": "ipython",
    "version": 3
   },
   "file_extension": ".py",
   "mimetype": "text/x-python",
   "name": "python",
   "nbconvert_exporter": "python",
   "pygments_lexer": "ipython3",
   "version": "3.10.0"
  },
  "orig_nbformat": 4,
  "vscode": {
   "interpreter": {
    "hash": "aee8b7b246df8f9039afb4144a1f6fd8d2ca17a180786b69acc140d282b71a49"
   }
  }
 },
 "nbformat": 4,
 "nbformat_minor": 2
}
